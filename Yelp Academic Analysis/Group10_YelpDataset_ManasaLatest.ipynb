{
 "cells": [
  {
   "cell_type": "code",
   "execution_count": 1,
   "metadata": {
    "collapsed": false
   },
   "outputs": [],
   "source": [
    "from pyspark.mllib.clustering import KMeans, KMeansModel\n",
    "from numpy import array\n",
    "from math import sqrt\n",
    "import csv, io\n",
    "from pyspark import SparkContext, SparkConf\n",
    "from pyspark.sql import SQLContext\n",
    "#conf = SparkConf().set(\"spark.jars\", \"/home/cloudera/Downloads/spark-csv_2.10-1.5.0.jar\").setAppName('Group10_YelpDataset')\n",
    "conf = SparkConf().setAppName('Group10_YelpDataset_V1.0')\n",
    "sqlContext = SQLContext(sc)\n",
    "sc\n",
    "from pyspark.ml.regression import LinearRegression"
   ]
  },
  {
   "cell_type": "code",
   "execution_count": 2,
   "metadata": {
    "collapsed": true
   },
   "outputs": [],
   "source": [
    "path = \"/home/cloudera/yelp_academic_dataset_business.json\""
   ]
  },
  {
   "cell_type": "code",
   "execution_count": 4,
   "metadata": {
    "collapsed": false
   },
   "outputs": [],
   "source": [
    "businessJson = sqlContext.read.json(path)\n",
    "businessJson.registerTempTable(\"businessTable\")\n",
    "cityPhoenix = sqlContext.sql(\"SELECT * FROM businessTable where city in ('Phx', 'Phoenix Valley', 'Pheonix', 'Pheonix AZ', 'Phoenix' ) and categories like '%Restaurant%'\")\n",
    "cityPhoenix.registerTempTable(\"phoenixTable\")"
   ]
  },
  {
   "cell_type": "code",
   "execution_count": 9,
   "metadata": {
    "collapsed": true
   },
   "outputs": [],
   "source": [
    "#cityPhoenix.toPandas().to_csv(\"/home/cloudera/trial.csv\", encoding='utf-8')"
   ]
  },
  {
   "cell_type": "code",
   "execution_count": 4,
   "metadata": {
    "collapsed": false
   },
   "outputs": [],
   "source": [
    "# Load training data\n",
    "#training = sqlContext.read.format(\"libsvm\")\\\n",
    "    #.load(\"/home/cloudera/trial.csv\")"
   ]
  },
  {
   "cell_type": "code",
   "execution_count": 5,
   "metadata": {
    "collapsed": false
   },
   "outputs": [
    {
     "name": "stdout",
     "output_type": "stream",
     "text": [
      "+----------------+--------------------+--------------------+--------------------+-------+--------------------+-------+-------------+--------------+--------------------+------------+-----------+------------+-----+-----+\n",
      "|         address|          attributes|         business_id|          categories|   city|               hours|is_open|     latitude|     longitude|                name|neighborhood|postal_code|review_count|stars|state|\n",
      "+----------------+--------------------+--------------------+--------------------+-------+--------------------+-------+-------------+--------------+--------------------+------------+-----------+------------+-----+-----+\n",
      "| 2801 N 15th Ave|[null,null,full_b...|_c3ixq9jYKxhLUB0c...|Bars, Sports Bars...|Phoenix|[11:0-23:0,11:0-2...|      1|   33.4798071|  -112.0911877|Original Hamburge...|            |      85007|         277|  4.0|   AZ|\n",
      "| 4131 N 83rd Ave|[null,null,null,{...|3ByGQOVgds2YEu6kz...|Nightlife, Bars, ...|Phoenix|                null|      1|   33.4952976|  -112.2360764|            Rib Shop|            |      85033|           3|  2.5|   AZ|\n",
      "|7745 W Thomas Rd|[null,null,null,n...|CeuTRtwsq6w5rztGO...|Mexican, Restaurants|Phoenix|                null|      1|   33.4796712|  -112.2251729|            Salsitas|            |      85033|          14|  2.5|   AZ|\n",
      "|     4145 N 83Rd|[null,null,none,{...|AcGRSWCpb7YB95MTs...|Pizza, Fast Food,...|Phoenix|[10:30-23:0,10:30...|      1|33.4954215852|-112.235797843|Little Caesars Pizza|            |      85033|           4|  2.0|   AZ|\n",
      "|  1111 W Bell Rd|[null,null,full_b...|cKRMmytHxaSt8F0SM...|Event Planning & ...|Phoenix|[11:0-23:0,11:0-2...|      1|   33.6397742|  -112.0877381|Manuel's Mexican ...|            |      85023|         230|  3.5|   AZ|\n",
      "+----------------+--------------------+--------------------+--------------------+-------+--------------------+-------+-------------+--------------+--------------------+------------+-----------+------------+-----+-----+\n",
      "only showing top 5 rows\n",
      "\n"
     ]
    }
   ],
   "source": [
    "\n",
    "cityPhoenix.show(5)"
   ]
  },
  {
   "cell_type": "markdown",
   "metadata": {},
   "source": [
    "Displaying the schema of the current data set after refining"
   ]
  },
  {
   "cell_type": "code",
   "execution_count": 80,
   "metadata": {
    "collapsed": false
   },
   "outputs": [
    {
     "name": "stdout",
     "output_type": "stream",
     "text": [
      "root\n",
      " |-- address: string (nullable = true)\n",
      " |-- attributes: struct (nullable = true)\n",
      " |    |-- AcceptsInsurance: string (nullable = true)\n",
      " |    |-- AgesAllowed: string (nullable = true)\n",
      " |    |-- Alcohol: string (nullable = true)\n",
      " |    |-- Ambience: string (nullable = true)\n",
      " |    |-- BYOB: string (nullable = true)\n",
      " |    |-- BYOBCorkage: string (nullable = true)\n",
      " |    |-- BestNights: string (nullable = true)\n",
      " |    |-- BikeParking: string (nullable = true)\n",
      " |    |-- BusinessAcceptsBitcoin: string (nullable = true)\n",
      " |    |-- BusinessAcceptsCreditCards: string (nullable = true)\n",
      " |    |-- BusinessParking: string (nullable = true)\n",
      " |    |-- ByAppointmentOnly: string (nullable = true)\n",
      " |    |-- Caters: string (nullable = true)\n",
      " |    |-- CoatCheck: string (nullable = true)\n",
      " |    |-- Corkage: string (nullable = true)\n",
      " |    |-- DietaryRestrictions: string (nullable = true)\n",
      " |    |-- DogsAllowed: string (nullable = true)\n",
      " |    |-- DriveThru: string (nullable = true)\n",
      " |    |-- GoodForDancing: string (nullable = true)\n",
      " |    |-- GoodForKids: string (nullable = true)\n",
      " |    |-- GoodForMeal: string (nullable = true)\n",
      " |    |-- HairSpecializesIn: string (nullable = true)\n",
      " |    |-- HappyHour: string (nullable = true)\n",
      " |    |-- HasTV: string (nullable = true)\n",
      " |    |-- Music: string (nullable = true)\n",
      " |    |-- NoiseLevel: string (nullable = true)\n",
      " |    |-- Open24Hours: string (nullable = true)\n",
      " |    |-- OutdoorSeating: string (nullable = true)\n",
      " |    |-- RestaurantsAttire: string (nullable = true)\n",
      " |    |-- RestaurantsCounterService: string (nullable = true)\n",
      " |    |-- RestaurantsDelivery: string (nullable = true)\n",
      " |    |-- RestaurantsGoodForGroups: string (nullable = true)\n",
      " |    |-- RestaurantsPriceRange2: string (nullable = true)\n",
      " |    |-- RestaurantsReservations: string (nullable = true)\n",
      " |    |-- RestaurantsTableService: string (nullable = true)\n",
      " |    |-- RestaurantsTakeOut: string (nullable = true)\n",
      " |    |-- Smoking: string (nullable = true)\n",
      " |    |-- WheelchairAccessible: string (nullable = true)\n",
      " |    |-- WiFi: string (nullable = true)\n",
      " |-- business_id: string (nullable = true)\n",
      " |-- categories: string (nullable = true)\n",
      " |-- city: string (nullable = true)\n",
      " |-- hours: struct (nullable = true)\n",
      " |    |-- Friday: string (nullable = true)\n",
      " |    |-- Monday: string (nullable = true)\n",
      " |    |-- Saturday: string (nullable = true)\n",
      " |    |-- Sunday: string (nullable = true)\n",
      " |    |-- Thursday: string (nullable = true)\n",
      " |    |-- Tuesday: string (nullable = true)\n",
      " |    |-- Wednesday: string (nullable = true)\n",
      " |-- is_open: long (nullable = true)\n",
      " |-- latitude: double (nullable = true)\n",
      " |-- longitude: double (nullable = true)\n",
      " |-- name: string (nullable = true)\n",
      " |-- neighborhood: string (nullable = true)\n",
      " |-- postal_code: string (nullable = true)\n",
      " |-- review_count: long (nullable = true)\n",
      " |-- stars: double (nullable = true)\n",
      " |-- state: string (nullable = true)\n",
      "\n"
     ]
    }
   ],
   "source": [
    "cityPhoenix.printSchema()"
   ]
  },
  {
   "cell_type": "markdown",
   "metadata": {},
   "source": [
    "Display the number of rows in the dataset"
   ]
  },
  {
   "cell_type": "code",
   "execution_count": 81,
   "metadata": {
    "collapsed": false
   },
   "outputs": [
    {
     "data": {
      "text/plain": [
       "3844"
      ]
     },
     "execution_count": 81,
     "metadata": {},
     "output_type": "execute_result"
    }
   ],
   "source": [
    "cityPhoenix.count()"
   ]
  },
  {
   "cell_type": "code",
   "execution_count": 82,
   "metadata": {
    "collapsed": false
   },
   "outputs": [
    {
     "name": "stdout",
     "output_type": "stream",
     "text": [
      "+-----------+---+---+---+---+---+---+---+---+---+\n",
      "|state_stars|5.0|3.0|2.5|1.5|4.0|3.5|2.0|4.5|1.0|\n",
      "+-----------+---+---+---+---+---+---+---+---+---+\n",
      "|         AZ|125|652|389| 98|937|846|246|493| 31|\n",
      "|         OR|  3|  0|  2|  0|  6|  6|  0| 10|  0|\n",
      "+-----------+---+---+---+---+---+---+---+---+---+\n",
      "\n"
     ]
    }
   ],
   "source": [
    "cityPhoenix.crosstab('state','stars').show()"
   ]
  },
  {
   "cell_type": "markdown",
   "metadata": {},
   "source": [
    "# Pre -Processing Data - get data ready for modelling"
   ]
  },
  {
   "cell_type": "markdown",
   "metadata": {},
   "source": [
    "Creation of data for modelling (numeric columns) \n",
    "Independent variable - longitude, latitude, review_count\n",
    "Dependent variable -stars\n",
    "Goal: The variance of the stars with the change in latitude, longitude and review_count variables."
   ]
  },
  {
   "cell_type": "code",
   "execution_count": 5,
   "metadata": {
    "collapsed": false
   },
   "outputs": [
    {
     "name": "stdout",
     "output_type": "stream",
     "text": [
      "+-----+--------------+-------------+------------+\n",
      "|stars|     longitude|     latitude|review_count|\n",
      "+-----+--------------+-------------+------------+\n",
      "|  4.0|  -112.0911877|   33.4798071|         277|\n",
      "|  2.5|  -112.2360764|   33.4952976|           3|\n",
      "|  2.5|  -112.2251729|   33.4796712|          14|\n",
      "|  2.0|-112.235797843|33.4954215852|           4|\n",
      "|  3.5|  -112.0877381|   33.6397742|         230|\n",
      "+-----+--------------+-------------+------------+\n",
      "only showing top 5 rows\n",
      "\n"
     ]
    }
   ],
   "source": [
    "ModelData = sqlContext.sql(\"Select stars,longitude, latitude, review_count from phoenixTable\")\n",
    "ModelData.show(5)"
   ]
  },
  {
   "cell_type": "code",
   "execution_count": 56,
   "metadata": {
    "collapsed": false
   },
   "outputs": [
    {
     "data": {
      "text/plain": [
       "DataFrame[stars: double, longitude: double, latitude: double, review_count: bigint]"
      ]
     },
     "execution_count": 56,
     "metadata": {},
     "output_type": "execute_result"
    }
   ],
   "source": [
    "ModelData"
   ]
  },
  {
   "cell_type": "code",
   "execution_count": 7,
   "metadata": {
    "collapsed": false
   },
   "outputs": [
    {
     "data": {
      "text/html": [
       "<div>\n",
       "<table border=\"1\" class=\"dataframe\">\n",
       "  <thead>\n",
       "    <tr style=\"text-align: right;\">\n",
       "      <th></th>\n",
       "      <th>stars</th>\n",
       "      <th>longitude</th>\n",
       "      <th>latitude</th>\n",
       "      <th>review_count</th>\n",
       "    </tr>\n",
       "  </thead>\n",
       "  <tbody>\n",
       "    <tr>\n",
       "      <th>0</th>\n",
       "      <td>4.0</td>\n",
       "      <td>-112.091188</td>\n",
       "      <td>33.479807</td>\n",
       "      <td>277</td>\n",
       "    </tr>\n",
       "    <tr>\n",
       "      <th>1</th>\n",
       "      <td>2.5</td>\n",
       "      <td>-112.236076</td>\n",
       "      <td>33.495298</td>\n",
       "      <td>3</td>\n",
       "    </tr>\n",
       "    <tr>\n",
       "      <th>2</th>\n",
       "      <td>2.5</td>\n",
       "      <td>-112.225173</td>\n",
       "      <td>33.479671</td>\n",
       "      <td>14</td>\n",
       "    </tr>\n",
       "    <tr>\n",
       "      <th>3</th>\n",
       "      <td>2.0</td>\n",
       "      <td>-112.235798</td>\n",
       "      <td>33.495422</td>\n",
       "      <td>4</td>\n",
       "    </tr>\n",
       "    <tr>\n",
       "      <th>4</th>\n",
       "      <td>3.5</td>\n",
       "      <td>-112.087738</td>\n",
       "      <td>33.639774</td>\n",
       "      <td>230</td>\n",
       "    </tr>\n",
       "  </tbody>\n",
       "</table>\n",
       "</div>"
      ],
      "text/plain": [
       "   stars   longitude   latitude  review_count\n",
       "0    4.0 -112.091188  33.479807           277\n",
       "1    2.5 -112.236076  33.495298             3\n",
       "2    2.5 -112.225173  33.479671            14\n",
       "3    2.0 -112.235798  33.495422             4\n",
       "4    3.5 -112.087738  33.639774           230"
      ]
     },
     "execution_count": 7,
     "metadata": {},
     "output_type": "execute_result"
    }
   ],
   "source": [
    "ModelData.toPandas().head()"
   ]
  },
  {
   "cell_type": "code",
   "execution_count": 9,
   "metadata": {
    "collapsed": false
   },
   "outputs": [
    {
     "name": "stdout",
     "output_type": "stream",
     "text": [
      "+-------+------------------+-------------------+------------------+-----------------+\n",
      "|summary|             stars|          longitude|          latitude|     review_count|\n",
      "+-------+------------------+-------------------+------------------+-----------------+\n",
      "|  count|              3844|               3844|              3844|             3844|\n",
      "|   mean|3.4497918834547345|-112.13958356779634| 33.56210648820647|97.89542143600416|\n",
      "| stddev| 0.839687679399409| 0.9005390729195051|1.3097495118370295|178.8233727360186|\n",
      "|    min|               1.0|     -122.831588876|         -33.50857|                3|\n",
      "|    max|               5.0|        -111.790112|     42.2959631079|             2267|\n",
      "+-------+------------------+-------------------+------------------+-----------------+\n",
      "\n"
     ]
    }
   ],
   "source": [
    "ModelData.describe(['stars','longitude', 'latitude', 'review_count']).show()"
   ]
  },
  {
   "cell_type": "markdown",
   "metadata": {},
   "source": []
  },
  {
   "cell_type": "markdown",
   "metadata": {
    "collapsed": false
   },
   "source": [
    "# Pre Analysis -Before Modelling"
   ]
  },
  {
   "cell_type": "markdown",
   "metadata": {},
   "source": [
    "Initial preparations for the creating a model. \n",
    "Modelling: Linear regression model.\n",
    "Input needed: Labelled point \n",
    "\n",
    "Pre Analaysis: \n",
    "1) Perform the correlation between the variables to be modelled\n",
    "2) Check for the distribution of the data - box plot and scatter plot\n",
    "3) Histogram to check for the distribution of data"
   ]
  },
  {
   "cell_type": "code",
   "execution_count": 6,
   "metadata": {
    "collapsed": true
   },
   "outputs": [],
   "source": [
    "import pyspark.mllib\n",
    "import pyspark.mllib.regression\n",
    "from pyspark.mllib.regression import LabeledPoint\n",
    "from pyspark.sql.functions import * "
   ]
  },
  {
   "cell_type": "code",
   "execution_count": 7,
   "metadata": {
    "collapsed": true
   },
   "outputs": [],
   "source": [
    "temp = ModelData.map(lambda line: LabeledPoint(line[0],[line[1:]]))"
   ]
  },
  {
   "cell_type": "code",
   "execution_count": 8,
   "metadata": {
    "collapsed": false
   },
   "outputs": [
    {
     "data": {
      "text/plain": [
       "[LabeledPoint(4.0, [-112.0911877,33.4798071,277.0]),\n",
       " LabeledPoint(2.5, [-112.2360764,33.4952976,3.0]),\n",
       " LabeledPoint(2.5, [-112.2251729,33.4796712,14.0]),\n",
       " LabeledPoint(2.0, [-112.235797843,33.4954215852,4.0]),\n",
       " LabeledPoint(3.5, [-112.0877381,33.6397742,230.0])]"
      ]
     },
     "execution_count": 8,
     "metadata": {},
     "output_type": "execute_result"
    }
   ],
   "source": [
    "temp.take(5)"
   ]
  },
  {
   "cell_type": "code",
   "execution_count": 9,
   "metadata": {
    "collapsed": false
   },
   "outputs": [
    {
     "data": {
      "text/plain": [
       "PythonRDD[18] at RDD at PythonRDD.scala:43"
      ]
     },
     "execution_count": 9,
     "metadata": {},
     "output_type": "execute_result"
    }
   ],
   "source": [
    "temp"
   ]
  },
  {
   "cell_type": "code",
   "execution_count": 10,
   "metadata": {
    "collapsed": true
   },
   "outputs": [],
   "source": [
    "from pyspark.mllib.util import MLUtils\n",
    "from pyspark.mllib.linalg import Vectors, Matrices\n",
    "from pyspark.mllib.feature import StandardScaler"
   ]
  },
  {
   "cell_type": "code",
   "execution_count": 11,
   "metadata": {
    "collapsed": false
   },
   "outputs": [],
   "source": []
  },
  {
   "cell_type": "markdown",
   "metadata": {},
   "source": [
    "Perform statistical operations on the data to be modelled"
   ]
  },
  {
   "cell_type": "code",
   "execution_count": 125,
   "metadata": {
    "collapsed": true
   },
   "outputs": [],
   "source": [
    "features = ModelData.map(lambda row: row[1:])\n",
    "Correlationfeature = ModelData.map(lambda row: row[0:])"
   ]
  },
  {
   "cell_type": "code",
   "execution_count": 126,
   "metadata": {
    "collapsed": false
   },
   "outputs": [
    {
     "data": {
      "text/plain": [
       "[(-112.0911877, 33.4798071, 277)]"
      ]
     },
     "execution_count": 126,
     "metadata": {},
     "output_type": "execute_result"
    }
   ],
   "source": [
    "features.take(1)"
   ]
  },
  {
   "cell_type": "markdown",
   "metadata": {},
   "source": [
    "The below code snippet calculates the mean and variance of the vectors. The output shows the distribution of the data and the number of zeros in the data, we see that there are no zeros in the data."
   ]
  },
  {
   "cell_type": "code",
   "execution_count": 127,
   "metadata": {
    "collapsed": false
   },
   "outputs": [
    {
     "name": "stdout",
     "output_type": "stream",
     "text": [
      "[   3.44979188 -112.13958357   33.56210649   97.89542144]\n",
      "[  7.05258869e-01   8.11181647e-01   1.71589017e+00   3.19861197e+04]\n",
      "[ 3844.  3844.  3844.  3844.]\n"
     ]
    }
   ],
   "source": [
    "from pyspark.mllib.stat import Statistics\n",
    "\n",
    "summary = Statistics.colStats(Correlationfeature)\n",
    "print(summary.mean())\n",
    "print(summary.variance())\n",
    "print(summary.numNonzeros())"
   ]
  },
  {
   "cell_type": "markdown",
   "metadata": {},
   "source": [
    "Checking for correlation of the columns to be able to run a regression model. Now that the plot gives an output that the independent variables are not correlated"
   ]
  },
  {
   "cell_type": "code",
   "execution_count": 86,
   "metadata": {
    "collapsed": false
   },
   "outputs": [
    {
     "name": "stdout",
     "output_type": "stream",
     "text": [
      "[[ 1.         -0.05656771  0.04078885  0.24016736]\n",
      " [-0.05656771  1.         -0.55917718  0.04100118]\n",
      " [ 0.04078885 -0.55917718  1.         -0.01492386]\n",
      " [ 0.24016736  0.04100118 -0.01492386  1.        ]]\n"
     ]
    }
   ],
   "source": [
    "data =features # an RDD of Vectors\n",
    "# calculate the correlation matrix using Pearson's method. Use \"spearman\" for Spearman's method.\n",
    "# If a method is not specified, Pearson's method will be used by default. \n",
    "print(Statistics.corr(data, method=\"pearson\"))"
   ]
  },
  {
   "cell_type": "markdown",
   "metadata": {},
   "source": [
    "Convert the RDD of data into lists and arrays to be able to plot the variables to be able to understand the distribution of data"
   ]
  },
  {
   "cell_type": "code",
   "execution_count": 46,
   "metadata": {
    "collapsed": false
   },
   "outputs": [
    {
     "data": {
      "text/plain": [
       "[116,\n",
       " 127,\n",
       " 11,\n",
       " 16,\n",
       " 29,\n",
       " 45,\n",
       " 87,\n",
       " 207,\n",
       " 239,\n",
       " 47,\n",
       " 16,\n",
       " 7,\n",
       " 19,\n",
       " 22,\n",
       " 166,\n",
       " 10,\n",
       " 86,\n",
       " 98,\n",
       " 45,\n",
       " 88,\n",
       " 51,\n",
       " 31,\n",
       " 23,\n",
       " 66,\n",
       " 5,\n",
       " 21,\n",
       " 34,\n",
       " 5,\n",
       " 10,\n",
       " 94,\n",
       " 84,\n",
       " 27,\n",
       " 4,\n",
       " 40,\n",
       " 59,\n",
       " 531,\n",
       " 19,\n",
       " 5,\n",
       " 14,\n",
       " 32,\n",
       " 143,\n",
       " 3,\n",
       " 14,\n",
       " 44,\n",
       " 105,\n",
       " 287,\n",
       " 13,\n",
       " 27,\n",
       " 70,\n",
       " 38,\n",
       " 131,\n",
       " 4,\n",
       " 8,\n",
       " 265,\n",
       " 14,\n",
       " 50,\n",
       " 28,\n",
       " 221,\n",
       " 50,\n",
       " 19,\n",
       " 25,\n",
       " 90,\n",
       " 10,\n",
       " 10,\n",
       " 31,\n",
       " 3,\n",
       " 112,\n",
       " 177,\n",
       " 49,\n",
       " 65,\n",
       " 86,\n",
       " 98,\n",
       " 103,\n",
       " 9,\n",
       " 19,\n",
       " 12,\n",
       " 130,\n",
       " 64,\n",
       " 318,\n",
       " 68,\n",
       " 98,\n",
       " 55,\n",
       " 15,\n",
       " 8,\n",
       " 3,\n",
       " 135,\n",
       " 75,\n",
       " 39,\n",
       " 3,\n",
       " 59,\n",
       " 24,\n",
       " 18,\n",
       " 113,\n",
       " 5,\n",
       " 12,\n",
       " 4,\n",
       " 113,\n",
       " 10,\n",
       " 30,\n",
       " 23,\n",
       " 88,\n",
       " 31,\n",
       " 12,\n",
       " 208,\n",
       " 36,\n",
       " 8,\n",
       " 16,\n",
       " 36,\n",
       " 3,\n",
       " 35,\n",
       " 10,\n",
       " 4,\n",
       " 6,\n",
       " 129,\n",
       " 102,\n",
       " 6,\n",
       " 44,\n",
       " 62,\n",
       " 33,\n",
       " 54,\n",
       " 25,\n",
       " 371,\n",
       " 113,\n",
       " 113,\n",
       " 228,\n",
       " 11,\n",
       " 481,\n",
       " 6,\n",
       " 4,\n",
       " 12,\n",
       " 74,\n",
       " 120,\n",
       " 131,\n",
       " 131,\n",
       " 21,\n",
       " 116,\n",
       " 3,\n",
       " 22,\n",
       " 17,\n",
       " 191,\n",
       " 13,\n",
       " 879,\n",
       " 3,\n",
       " 149,\n",
       " 87,\n",
       " 30,\n",
       " 61,\n",
       " 8,\n",
       " 104,\n",
       " 11,\n",
       " 23,\n",
       " 33,\n",
       " 77,\n",
       " 30,\n",
       " 11,\n",
       " 7,\n",
       " 22,\n",
       " 220,\n",
       " 20,\n",
       " 5,\n",
       " 20,\n",
       " 62,\n",
       " 11,\n",
       " 16,\n",
       " 8,\n",
       " 10,\n",
       " 26,\n",
       " 13,\n",
       " 149,\n",
       " 9,\n",
       " 66,\n",
       " 5,\n",
       " 161,\n",
       " 10,\n",
       " 186,\n",
       " 42,\n",
       " 488,\n",
       " 597,\n",
       " 13,\n",
       " 4,\n",
       " 130,\n",
       " 144,\n",
       " 55,\n",
       " 58,\n",
       " 9,\n",
       " 9,\n",
       " 71,\n",
       " 7,\n",
       " 27,\n",
       " 740,\n",
       " 31,\n",
       " 7,\n",
       " 10,\n",
       " 199,\n",
       " 14,\n",
       " 36,\n",
       " 18,\n",
       " 15,\n",
       " 407,\n",
       " 11,\n",
       " 19,\n",
       " 63,\n",
       " 44,\n",
       " 6,\n",
       " 7,\n",
       " 28,\n",
       " 82,\n",
       " 78,\n",
       " 51,\n",
       " 63,\n",
       " 47,\n",
       " 28,\n",
       " 9,\n",
       " 21,\n",
       " 7,\n",
       " 5,\n",
       " 11,\n",
       " 29,\n",
       " 98,\n",
       " 31,\n",
       " 268,\n",
       " 8,\n",
       " 4,\n",
       " 254,\n",
       " 25,\n",
       " 392,\n",
       " 658,\n",
       " 3,\n",
       " 209,\n",
       " 51,\n",
       " 183,\n",
       " 49,\n",
       " 120,\n",
       " 15,\n",
       " 5,\n",
       " 111,\n",
       " 372,\n",
       " 301,\n",
       " 16,\n",
       " 75,\n",
       " 68,\n",
       " 240,\n",
       " 27,\n",
       " 362,\n",
       " 10,\n",
       " 6,\n",
       " 6,\n",
       " 24,\n",
       " 6,\n",
       " 327,\n",
       " 183,\n",
       " 9,\n",
       " 522,\n",
       " 115,\n",
       " 64,\n",
       " 179,\n",
       " 11,\n",
       " 8,\n",
       " 15,\n",
       " 10,\n",
       " 7,\n",
       " 178,\n",
       " 10,\n",
       " 548,\n",
       " 203,\n",
       " 61,\n",
       " 52,\n",
       " 172,\n",
       " 252,\n",
       " 848,\n",
       " 33,\n",
       " 147,\n",
       " 90,\n",
       " 34,\n",
       " 80,\n",
       " 525,\n",
       " 3,\n",
       " 61,\n",
       " 3,\n",
       " 4,\n",
       " 9,\n",
       " 5,\n",
       " 13,\n",
       " 109,\n",
       " 7,\n",
       " 52,\n",
       " 15,\n",
       " 57,\n",
       " 15,\n",
       " 213,\n",
       " 6,\n",
       " 390,\n",
       " 12,\n",
       " 824,\n",
       " 369,\n",
       " 117,\n",
       " 141,\n",
       " 5,\n",
       " 56,\n",
       " 16,\n",
       " 645,\n",
       " 15,\n",
       " 65,\n",
       " 3,\n",
       " 30,\n",
       " 308,\n",
       " 95,\n",
       " 15,\n",
       " 3,\n",
       " 232,\n",
       " 6,\n",
       " 7,\n",
       " 4,\n",
       " 5,\n",
       " 33,\n",
       " 29,\n",
       " 23,\n",
       " 115,\n",
       " 258,\n",
       " 183,\n",
       " 3,\n",
       " 6,\n",
       " 264,\n",
       " 49,\n",
       " 18,\n",
       " 127,\n",
       " 15,\n",
       " 165,\n",
       " 16,\n",
       " 32,\n",
       " 22,\n",
       " 125,\n",
       " 31,\n",
       " 5,\n",
       " 36,\n",
       " 29,\n",
       " 41,\n",
       " 54,\n",
       " 3,\n",
       " 154,\n",
       " 16,\n",
       " 21,\n",
       " 205,\n",
       " 14,\n",
       " 368,\n",
       " 12,\n",
       " 141,\n",
       " 8,\n",
       " 12,\n",
       " 4,\n",
       " 224,\n",
       " 87,\n",
       " 15,\n",
       " 19,\n",
       " 718,\n",
       " 8,\n",
       " 80,\n",
       " 8,\n",
       " 39,\n",
       " 29,\n",
       " 10,\n",
       " 247,\n",
       " 128,\n",
       " 6,\n",
       " 63,\n",
       " 130,\n",
       " 4,\n",
       " 5,\n",
       " 71,\n",
       " 149,\n",
       " 49,\n",
       " 60,\n",
       " 26,\n",
       " 11,\n",
       " 3,\n",
       " 433,\n",
       " 330,\n",
       " 6,\n",
       " 1036,\n",
       " 126,\n",
       " 22,\n",
       " 26,\n",
       " 32,\n",
       " 53,\n",
       " 8,\n",
       " 7,\n",
       " 22,\n",
       " 6,\n",
       " 9,\n",
       " 8,\n",
       " 12,\n",
       " 34,\n",
       " 234,\n",
       " 85,\n",
       " 3,\n",
       " 19]"
      ]
     },
     "execution_count": 46,
     "metadata": {},
     "output_type": "execute_result"
    }
   ],
   "source": [
    "result = sqlContext.sql(\"Select review_count from phoenixTable\")\n",
    "result_array = result.rdd.map(lambda row: row.review_count).sample(False,0.1).collect()\n",
    "result_array"
   ]
  },
  {
   "cell_type": "code",
   "execution_count": 57,
   "metadata": {
    "collapsed": false
   },
   "outputs": [
    {
     "data": {
      "text/plain": [
       "DataFrame[review_count: bigint]"
      ]
     },
     "execution_count": 57,
     "metadata": {},
     "output_type": "execute_result"
    }
   ],
   "source": [
    "result"
   ]
  },
  {
   "cell_type": "markdown",
   "metadata": {},
   "source": [
    "Plot a BoxPlot on review_count column to see if any outliers exist. From the plot, we find that they are pretty many outliers."
   ]
  },
  {
   "cell_type": "code",
   "execution_count": 42,
   "metadata": {
    "collapsed": true
   },
   "outputs": [],
   "source": [
    "%matplotlib inline"
   ]
  },
  {
   "cell_type": "code",
   "execution_count": 76,
   "metadata": {
    "collapsed": false
   },
   "outputs": [
    {
     "data": {
      "image/png": "[encoded data removed]",
      "text/plain": [
       "<matplotlib.figure.Figure at 0x7fca4877f6d0>"
      ]
     },
     "metadata": {},
     "output_type": "display_data"
    }
   ],
   "source": [
    "import matplotlib.pyplot as plt\n",
    "\n",
    "plt.boxplot(result_array)\n",
    "plt.show()"
   ]
  },
  {
   "cell_type": "markdown",
   "metadata": {},
   "source": [
    "Converting data in a DataFrame into a list to run the necessary plots"
   ]
  },
  {
   "cell_type": "code",
   "execution_count": 61,
   "metadata": {
    "collapsed": false
   },
   "outputs": [],
   "source": [
    "datatoModel = ModelData\n",
    "data_array =datatoModel.rdd.sample(False,0.1).map(lambda row: (row.stars, row.longitude,row.latitude,row.review_count))\n",
    "data_array_stars = data_array.map(lambda (stars, longitude, latitude, review_count): stars ).collect()\n",
    "data_array_longitude = data_array.map(lambda (stars, longitude, latitude, review_count): longitude ).collect()\n",
    "data_array_latitude = data_array.map(lambda (stars, longitude, latitude, review_count): latitude ).collect()\n",
    "data_array_reviewCount = data_array.map(lambda (stars, longitude, latitude, review_count): review_count ).collect()\n"
   ]
  },
  {
   "cell_type": "markdown",
   "metadata": {},
   "source": [
    "Plot a scatter plot between the stars and review_count to interpret if any relation between the star rating and the review_count"
   ]
  },
  {
   "cell_type": "code",
   "execution_count": 75,
   "metadata": {
    "collapsed": false
   },
   "outputs": [
    {
     "data": {
      "image/png": "[encoded data removed]",
      "text/plain": [
       "<matplotlib.figure.Figure at 0x7fca48728190>"
      ]
     },
     "metadata": {},
     "output_type": "display_data"
    }
   ],
   "source": [
    "from IPython.display import display \n",
    "\n",
    "plots = ModelData.toPandas()\n",
    "plots.plot(x='stars', y ='review_count',colormap='winter_r')\n",
    "plt.show()"
   ]
  },
  {
   "cell_type": "code",
   "execution_count": 100,
   "metadata": {
    "collapsed": false
   },
   "outputs": [],
   "source": [
    "#from mpl_toolkits.mplot3d import Axes3D\n",
    "#fig =plt.figure()\n",
    "#ax=fig.add_subplot(|||, project='2D')\n",
    "#ax.scatter(data_array_longitude, data_array_latitude, c='r',marker='o')\n",
    "#plt.show()"
   ]
  },
  {
   "cell_type": "code",
   "execution_count": 120,
   "metadata": {
    "collapsed": false
   },
   "outputs": [],
   "source": [
    "#from numpy import array\n",
    "#from pyspark.mllib.regression import LabeledPoint\n",
    "#from pyspark.mllib.tree import DecisionTree\n",
    "\n",
    "#data = [\n",
    " #    LabeledPoint(0.0, [0.0]),\n",
    "#   LabeledPoint(1.0, [1.0]),\n",
    "#     LabeledPoint(1.0, [2.0]),\n",
    "#     LabeledPoint(1.0, [3.0])\n",
    "# ]\n",
    "#model = DecisionTree.trainClassifier(sc.parallelize(data), 2, {})\n",
    "#print(model)"
   ]
  },
  {
   "cell_type": "code",
   "execution_count": 121,
   "metadata": {
    "collapsed": false
   },
   "outputs": [],
   "source": [
    "#temp.collect()"
   ]
  },
  {
   "cell_type": "code",
   "execution_count": 122,
   "metadata": {
    "collapsed": false
   },
   "outputs": [],
   "source": [
    "#data"
   ]
  },
  {
   "cell_type": "code",
   "execution_count": 119,
   "metadata": {
    "collapsed": false
   },
   "outputs": [],
   "source": [
    "#from numpy import array\n",
    "#from pyspark.mllib.regression import LabeledPoint\n",
    "#from pyspark.mllib.tree import DecisionTree\n",
    "\n",
    "#data=sc.parallelize(temp.collect())\n",
    "\n",
    "#model = DecisionTree.trainClassifier(temp.collect(), 4, {})\n",
    "#print(model)\n",
    "#data"
   ]
  },
  {
   "cell_type": "code",
   "execution_count": 128,
   "metadata": {
    "collapsed": true
   },
   "outputs": [],
   "source": [
    "standardizer = StandardScaler()\n",
    "model = standardizer.fit(features)\n",
    "features_transform = model.transform(features)"
   ]
  },
  {
   "cell_type": "code",
   "execution_count": 118,
   "metadata": {
    "collapsed": false
   },
   "outputs": [],
   "source": [
    "#kstest = Statistics.kolmogorovSmirnovTest\n",
    "#data = temp\n",
    "#ksmodel = kstest(data, \"norm\")\n",
    "#print(round(ksmodel.pValue, 3))\n",
    "\n",
    "#print(round(ksmodel.statistic, 3))\n",
    "\n",
    "#ksmodel.nullHypothesis\n"
   ]
  },
  {
   "cell_type": "code",
   "execution_count": 79,
   "metadata": {
    "collapsed": false
   },
   "outputs": [
    {
     "data": {
      "image/png": "[encoded data removed]",
      "text/plain": [
       "<matplotlib.figure.Figure at 0x7fca4883f110>"
      ]
     },
     "metadata": {},
     "output_type": "display_data"
    }
   ],
   "source": [
    "plt.hist(data_array_reviewCount)\n",
    "plt.show()"
   ]
  },
  {
   "cell_type": "code",
   "execution_count": 71,
   "metadata": {
    "collapsed": false
   },
   "outputs": [
    {
     "data": {
      "image/png": "[encoded data removed]",
      "text/plain": [
       "<matplotlib.figure.Figure at 0x7fca48940d10>"
      ]
     },
     "metadata": {},
     "output_type": "display_data"
    }
   ],
   "source": [
    "plt.hist(data_array_stars)\n",
    "plt.show()"
   ]
  },
  {
   "cell_type": "code",
   "execution_count": 129,
   "metadata": {
    "collapsed": false
   },
   "outputs": [
    {
     "data": {
      "text/plain": [
       "[DenseVector([-124.455, 25.5587, 1.5488]),\n",
       " DenseVector([-124.6159, 25.5705, 0.0168]),\n",
       " DenseVector([-124.6038, 25.5586, 0.0783]),\n",
       " DenseVector([-124.6156, 25.5706, 0.0224]),\n",
       " DenseVector([-124.4512, 25.6808, 1.286])]"
      ]
     },
     "execution_count": 129,
     "metadata": {},
     "output_type": "execute_result"
    }
   ],
   "source": [
    "features_transform.take(5)"
   ]
  },
  {
   "cell_type": "code",
   "execution_count": 130,
   "metadata": {
    "collapsed": false
   },
   "outputs": [
    {
     "data": {
      "text/plain": [
       "[4.0, 2.5, 2.5, 2.0, 3.5]"
      ]
     },
     "execution_count": 130,
     "metadata": {},
     "output_type": "execute_result"
    }
   ],
   "source": [
    "labels = ModelData.map(lambda row: row[0])\n",
    "labels.take(5)"
   ]
  },
  {
   "cell_type": "code",
   "execution_count": 134,
   "metadata": {
    "collapsed": false
   },
   "outputs": [
    {
     "data": {
      "text/plain": [
       "[(4.0, DenseVector([-124.455, 25.5587, 1.5488])),\n",
       " (2.5, DenseVector([-124.6159, 25.5705, 0.0168])),\n",
       " (2.5, DenseVector([-124.6038, 25.5586, 0.0783])),\n",
       " (2.0, DenseVector([-124.6156, 25.5706, 0.0224])),\n",
       " (3.5, DenseVector([-124.4512, 25.6808, 1.286]))]"
      ]
     },
     "execution_count": 134,
     "metadata": {},
     "output_type": "execute_result"
    }
   ],
   "source": [
    "transformedData = labels.zip(features_transform)\n",
    "transformedData.take(5)\n"
   ]
  },
  {
   "cell_type": "code",
   "execution_count": 136,
   "metadata": {
    "collapsed": false
   },
   "outputs": [],
   "source": [
    "#data= sc.parallelize(transformedData.take())"
   ]
  },
  {
   "cell_type": "code",
   "execution_count": 137,
   "metadata": {
    "collapsed": false
   },
   "outputs": [],
   "source": [
    "#trainingData, testingData = transformedData.randomSplit([.8,.2],seed=10)\n",
    "splits =temp.randomSplit([.8,.2],seed=10)"
   ]
  },
  {
   "cell_type": "code",
   "execution_count": 144,
   "metadata": {
    "collapsed": false
   },
   "outputs": [
    {
     "data": {
      "text/plain": [
       "PythonRDD[343] at RDD at PythonRDD.scala:43"
      ]
     },
     "execution_count": 144,
     "metadata": {},
     "output_type": "execute_result"
    }
   ],
   "source": [
    "trainingData1 = splits[0]\n",
    "testingData1=splits[1]\n",
    "trainingData1"
   ]
  },
  {
   "cell_type": "code",
   "execution_count": 35,
   "metadata": {
    "collapsed": false
   },
   "outputs": [
    {
     "data": {
      "text/plain": [
       "[(4.0, DenseVector([-124.455, 25.5587, 1.5488])),\n",
       " (2.0, DenseVector([-124.6156, 25.5706, 0.0224])),\n",
       " (3.5, DenseVector([-124.3348, 25.4369, 0.1566])),\n",
       " (4.5, DenseVector([-124.4534, 25.5416, 0.6542])),\n",
       " (5.0, DenseVector([-124.4317, 25.5359, 0.0168]))]"
      ]
     },
     "execution_count": 35,
     "metadata": {},
     "output_type": "execute_result"
    }
   ],
   "source": [
    "trainingData.take(5)"
   ]
  },
  {
   "cell_type": "code",
   "execution_count": 140,
   "metadata": {
    "collapsed": false
   },
   "outputs": [],
   "source": [
    "from pyspark.mllib.regression import LinearRegressionWithSGD\n"
   ]
  },
  {
   "cell_type": "code",
   "execution_count": 141,
   "metadata": {
    "collapsed": false
   },
   "outputs": [],
   "source": [
    "linearModel = LinearRegressionWithSGD.train(trainingData1,10,.2)"
   ]
  },
  {
   "cell_type": "code",
   "execution_count": 142,
   "metadata": {
    "collapsed": false
   },
   "outputs": [
    {
     "data": {
      "text/plain": [
       "DenseVector([9.4352, -2.8232, -2.8403])"
      ]
     },
     "execution_count": 142,
     "metadata": {},
     "output_type": "execute_result"
    }
   ],
   "source": [
    "linearModel.weights"
   ]
  },
  {
   "cell_type": "code",
   "execution_count": 143,
   "metadata": {
    "collapsed": false
   },
   "outputs": [
    {
     "data": {
      "text/plain": [
       "1.3549011853998236e+35"
      ]
     },
     "execution_count": 143,
     "metadata": {},
     "output_type": "execute_result"
    }
   ],
   "source": [
    "linearModel.predict([7.3023, -2.1849, -2.1273])"
   ]
  },
  {
   "cell_type": "code",
   "execution_count": null,
   "metadata": {
    "collapsed": true
   },
   "outputs": [],
   "source": []
  }
 ],
 "metadata": {
  "kernelspec": {
   "display_name": "Python 2",
   "language": "python",
   "name": "python2"
  },
  "language_info": {
   "codemirror_mode": {
    "name": "ipython",
    "version": 2
   },
   "file_extension": ".py",
   "mimetype": "text/x-python",
   "name": "python",
   "nbconvert_exporter": "python",
   "pygments_lexer": "ipython2",
   "version": "2.7.13"
  }
 },
 "nbformat": 4,
 "nbformat_minor": 2
}
